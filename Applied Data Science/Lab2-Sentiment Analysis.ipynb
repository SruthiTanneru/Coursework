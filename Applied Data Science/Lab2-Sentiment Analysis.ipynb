{
 "cells": [
  {
   "cell_type": "markdown",
   "id": "1f61edcb",
   "metadata": {},
   "source": [
    "## Task 1\n",
    "\n",
    "In Task 1, Multinomial Naive Bayes Classifier is used to classify positive and negative reviews based on the dataset of reviews for Ford motor vehicles. The dataset will be split into training set and test set containing 80% (1105) and 20%       (277) of the data points respectively.\n",
    "\n",
    "#### Bag of Words:\n",
    "\n",
    "Bag of words model represents a sentence as a set of words or sequence of words (bag) and their frequency of occurence in the sentence. Most common approach is to split the sentences into single words and their individual count in the sentence.The individual words are called unigrams. For example:\n",
    "\n",
    "\"The Ford SUV is really spacious and comfortable\" will be represented as \n",
    "\n",
    "'The','Ford','SUV','is','really','spacious','and','comfortable'\n",
    "\n",
    "\n",
    "As part of Task 1, we will implement the following steps:\n",
    "\n",
    "1. Data preprocessing which includes removing punctuation,numbers,converting text to lowercase,tokenisation and stemming.\n",
    "\n",
    "2. Splitting the data into training and test set.\n",
    "\n",
    "3. Vectorising and creating a separate vocabulary for training and test set.\n",
    "\n",
    "4. training the model using Multinomial Naive Bayes.\n",
    "\n",
    "5. Printing the confusion matrix\n",
    "\n",
    "\n"
   ]
  },
  {
   "cell_type": "code",
   "execution_count": 1,
   "id": "9dd8ba05",
   "metadata": {},
   "outputs": [],
   "source": [
    "%matplotlib inline\n",
    "import pandas as pd\n",
    "import numpy as np\n",
    "import string\n",
    "import nltk\n",
    "from nltk import tokenize \n",
    "from nltk.corpus import stopwords\n",
    "\n",
    "from sklearn.feature_extraction.text import CountVectorizer\n",
    "from sklearn.model_selection import train_test_split\n",
    "from sklearn.naive_bayes import MultinomialNB\n",
    "from sklearn.metrics import accuracy_score\n",
    "from sklearn.metrics import confusion_matrix\n",
    "\n",
    "import seaborn as sns"
   ]
  },
  {
   "cell_type": "markdown",
   "id": "c3133204",
   "metadata": {},
   "source": [
    "### Reading the data into a dataframe"
   ]
  },
  {
   "cell_type": "code",
   "execution_count": 2,
   "id": "0f437a67",
   "metadata": {},
   "outputs": [
    {
     "data": {
      "text/html": [
       "<div>\n",
       "<style scoped>\n",
       "    .dataframe tbody tr th:only-of-type {\n",
       "        vertical-align: middle;\n",
       "    }\n",
       "\n",
       "    .dataframe tbody tr th {\n",
       "        vertical-align: top;\n",
       "    }\n",
       "\n",
       "    .dataframe thead th {\n",
       "        text-align: right;\n",
       "    }\n",
       "</style>\n",
       "<table border=\"1\" class=\"dataframe\">\n",
       "  <thead>\n",
       "    <tr style=\"text-align: right;\">\n",
       "      <th></th>\n",
       "      <th>Sentiment</th>\n",
       "      <th>Review</th>\n",
       "    </tr>\n",
       "  </thead>\n",
       "  <tbody>\n",
       "    <tr>\n",
       "      <th>0</th>\n",
       "      <td>Neg</td>\n",
       "      <td>In 1992 we bought a new Taurus and we really ...</td>\n",
       "    </tr>\n",
       "    <tr>\n",
       "      <th>1</th>\n",
       "      <td>Neg</td>\n",
       "      <td>The last business trip  I drove to San Franci...</td>\n",
       "    </tr>\n",
       "    <tr>\n",
       "      <th>2</th>\n",
       "      <td>Neg</td>\n",
       "      <td>My husband and I purchased a 1990 Ford F250 a...</td>\n",
       "    </tr>\n",
       "    <tr>\n",
       "      <th>3</th>\n",
       "      <td>Neg</td>\n",
       "      <td>I feel I have a thorough opinion of this truc...</td>\n",
       "    </tr>\n",
       "    <tr>\n",
       "      <th>4</th>\n",
       "      <td>Neg</td>\n",
       "      <td>AS a mother of 3  all of whom are still in ca...</td>\n",
       "    </tr>\n",
       "    <tr>\n",
       "      <th>...</th>\n",
       "      <td>...</td>\n",
       "      <td>...</td>\n",
       "    </tr>\n",
       "    <tr>\n",
       "      <th>1377</th>\n",
       "      <td>Pos</td>\n",
       "      <td>In June we bought the Sony Limited Edition Fo...</td>\n",
       "    </tr>\n",
       "    <tr>\n",
       "      <th>1378</th>\n",
       "      <td>Pos</td>\n",
       "      <td>After 140 000 miles  we decided to replace my...</td>\n",
       "    </tr>\n",
       "    <tr>\n",
       "      <th>1379</th>\n",
       "      <td>Pos</td>\n",
       "      <td>The Ford Focus is a great little record setti...</td>\n",
       "    </tr>\n",
       "    <tr>\n",
       "      <th>1380</th>\n",
       "      <td>Pos</td>\n",
       "      <td>I needed a new car because my hyundai excel 9...</td>\n",
       "    </tr>\n",
       "    <tr>\n",
       "      <th>1381</th>\n",
       "      <td>Pos</td>\n",
       "      <td>The 2000 Ford Focus SE 4 door sedan has a spa...</td>\n",
       "    </tr>\n",
       "  </tbody>\n",
       "</table>\n",
       "<p>1382 rows × 2 columns</p>\n",
       "</div>"
      ],
      "text/plain": [
       "     Sentiment                                             Review\n",
       "0          Neg   In 1992 we bought a new Taurus and we really ...\n",
       "1          Neg   The last business trip  I drove to San Franci...\n",
       "2          Neg   My husband and I purchased a 1990 Ford F250 a...\n",
       "3          Neg   I feel I have a thorough opinion of this truc...\n",
       "4          Neg   AS a mother of 3  all of whom are still in ca...\n",
       "...        ...                                                ...\n",
       "1377       Pos   In June we bought the Sony Limited Edition Fo...\n",
       "1378       Pos   After 140 000 miles  we decided to replace my...\n",
       "1379       Pos   The Ford Focus is a great little record setti...\n",
       "1380       Pos   I needed a new car because my hyundai excel 9...\n",
       "1381       Pos   The 2000 Ford Focus SE 4 door sedan has a spa...\n",
       "\n",
       "[1382 rows x 2 columns]"
      ]
     },
     "execution_count": 2,
     "metadata": {},
     "output_type": "execute_result"
    }
   ],
   "source": [
    "data=pd.read_csv('car_reviews.csv',header='infer')\n",
    "data\n"
   ]
  },
  {
   "cell_type": "markdown",
   "id": "4a605655",
   "metadata": {},
   "source": [
    "## Data Cleanup\n",
    "\n",
    "#### 1. rem_punctuation(row):\n",
    "\n",
    "removes the punctuation and numbers using translate. The text is converted to lowercase.  Each review is stored in the \"punctuation removed\" column of the dataframe.\n",
    "\n",
    "\n",
    "\n",
    "#### 2. token(row):\n",
    "\n",
    "splits the output of rem_punctuation into list of words using nltk tokenize.word_tokenize. The list of words for each review is stored in the \"tokenized\" column of the dataframe.\n",
    "\n",
    "\n",
    "#### 3. stop_words(row):\n",
    "\n",
    "removes the stop words occuring in the tokenized review. The words in the variable del_words have been deleted/excluded from the list of stop words as they indicate negative context and are important for sentiment analysis. The variable sentiment_words contains words with length greater than 1 and not in the list of stop words. The list of sentiment words are stored in the \"sentiment_words\" column of the dataframe. \n",
    "\n",
    "\n",
    "#### 4. stem(row):\n",
    "\n",
    "uses the nltk.stem.SnowballStemmer(language='english') to perform stemming and returns a string of the stemmed words. The string is stored in the \"stem\" column of the dataframe.\n",
    "\n",
    "\n"
   ]
  },
  {
   "cell_type": "code",
   "execution_count": 3,
   "id": "578e4564",
   "metadata": {
    "scrolled": true
   },
   "outputs": [],
   "source": [
    "def rem_punctuation(row):\n",
    "    table=str.maketrans('','',string.digits)\n",
    "    table1=str.maketrans('','',string.punctuation)\n",
    "    row=row.translate(table1).translate(table).lower()\n",
    "    return row\n",
    "\n",
    "def token(row):\n",
    "    row=tokenize.word_tokenize(row)\n",
    "    return row\n",
    "\n",
    "def stop_words(row):\n",
    "    tokenized_word=[]\n",
    "    s_words=stopwords.words(\"english\")\n",
    "    del_words=['against','no', 'nor', 'not','don', \"don't\",'should', \"should've\",'ain', 'aren', \"aren't\", 'couldn', \"couldn't\", 'didn', \"didn't\", 'doesn', \"doesn't\", 'hadn', \"hadn't\", 'hasn', \"hasn't\", 'haven', \"haven't\", 'isn', \"isn't\", 'ma', 'mightn', \"mightn't\", 'mustn', \"mustn't\", 'needn', \"needn't\", 'shan', \"shan't\", 'shouldn', \"shouldn't\", 'wasn', \"wasn't\", 'weren', \"weren't\", 'won', \"won't\", 'wouldn', \"wouldn't\"]\n",
    "    for i in del_words:\n",
    "        s_words.remove(i)\n",
    "    sentiment_words=[]\n",
    "    sentiment_words=[w for w in row if w not in s_words and len(w)>1 and w not in sentiment_words]\n",
    "    return sentiment_words\n",
    "\n",
    "\n",
    "def stem(words):\n",
    "    stemmer = nltk.stem.SnowballStemmer(language='english')\n",
    "    word_list=[]\n",
    "    \n",
    "    for w in words:\n",
    "        word_list.append(stemmer.stem(w))\n",
    "    review=' '.join(word_list)\n",
    "    return review"
   ]
  },
  {
   "cell_type": "code",
   "execution_count": 4,
   "id": "b51e0fb5",
   "metadata": {},
   "outputs": [],
   "source": [
    "data['punctuation removed']=data['Review'].apply(rem_punctuation)\n"
   ]
  },
  {
   "cell_type": "code",
   "execution_count": 5,
   "id": "c49b1030",
   "metadata": {},
   "outputs": [],
   "source": [
    "data['tokenized']=data['punctuation removed'].apply(token)\n"
   ]
  },
  {
   "cell_type": "code",
   "execution_count": 6,
   "id": "a84f77ef",
   "metadata": {},
   "outputs": [],
   "source": [
    "data['sentiment_words']=data['tokenized'].apply(stop_words)\n"
   ]
  },
  {
   "cell_type": "code",
   "execution_count": 7,
   "id": "282bba5a",
   "metadata": {
    "scrolled": true
   },
   "outputs": [
    {
     "data": {
      "text/html": [
       "<div>\n",
       "<style scoped>\n",
       "    .dataframe tbody tr th:only-of-type {\n",
       "        vertical-align: middle;\n",
       "    }\n",
       "\n",
       "    .dataframe tbody tr th {\n",
       "        vertical-align: top;\n",
       "    }\n",
       "\n",
       "    .dataframe thead th {\n",
       "        text-align: right;\n",
       "    }\n",
       "</style>\n",
       "<table border=\"1\" class=\"dataframe\">\n",
       "  <thead>\n",
       "    <tr style=\"text-align: right;\">\n",
       "      <th></th>\n",
       "      <th>Sentiment</th>\n",
       "      <th>Review</th>\n",
       "      <th>punctuation removed</th>\n",
       "      <th>tokenized</th>\n",
       "      <th>sentiment_words</th>\n",
       "      <th>stem</th>\n",
       "    </tr>\n",
       "  </thead>\n",
       "  <tbody>\n",
       "    <tr>\n",
       "      <th>0</th>\n",
       "      <td>Neg</td>\n",
       "      <td>In 1992 we bought a new Taurus and we really ...</td>\n",
       "      <td>in  we bought a new taurus and we really love...</td>\n",
       "      <td>[in, we, bought, a, new, taurus, and, we, real...</td>\n",
       "      <td>[bought, new, taurus, really, loved, decided, ...</td>\n",
       "      <td>bought new taurus realli love decid tri new ta...</td>\n",
       "    </tr>\n",
       "    <tr>\n",
       "      <th>1</th>\n",
       "      <td>Neg</td>\n",
       "      <td>The last business trip  I drove to San Franci...</td>\n",
       "      <td>the last business trip  i drove to san franci...</td>\n",
       "      <td>[the, last, business, trip, i, drove, to, san,...</td>\n",
       "      <td>[last, business, trip, drove, san, francisco, ...</td>\n",
       "      <td>last busi trip drove san francisco went hertz ...</td>\n",
       "    </tr>\n",
       "    <tr>\n",
       "      <th>2</th>\n",
       "      <td>Neg</td>\n",
       "      <td>My husband and I purchased a 1990 Ford F250 a...</td>\n",
       "      <td>my husband and i purchased a  ford f and had ...</td>\n",
       "      <td>[my, husband, and, i, purchased, a, ford, f, a...</td>\n",
       "      <td>[husband, purchased, ford, nothing, problems, ...</td>\n",
       "      <td>husband purchas ford noth problem own vehicl a...</td>\n",
       "    </tr>\n",
       "    <tr>\n",
       "      <th>3</th>\n",
       "      <td>Neg</td>\n",
       "      <td>I feel I have a thorough opinion of this truc...</td>\n",
       "      <td>i feel i have a thorough opinion of this truc...</td>\n",
       "      <td>[i, feel, i, have, a, thorough, opinion, of, t...</td>\n",
       "      <td>[feel, thorough, opinion, truck, compared, pos...</td>\n",
       "      <td>feel thorough opinion truck compar post evalu ...</td>\n",
       "    </tr>\n",
       "    <tr>\n",
       "      <th>4</th>\n",
       "      <td>Neg</td>\n",
       "      <td>AS a mother of 3  all of whom are still in ca...</td>\n",
       "      <td>as a mother of   all of whom are still in car...</td>\n",
       "      <td>[as, a, mother, of, all, of, whom, are, still,...</td>\n",
       "      <td>[mother, still, carseats, logical, thing, trad...</td>\n",
       "      <td>mother still carseat logic thing trade sx mini...</td>\n",
       "    </tr>\n",
       "    <tr>\n",
       "      <th>...</th>\n",
       "      <td>...</td>\n",
       "      <td>...</td>\n",
       "      <td>...</td>\n",
       "      <td>...</td>\n",
       "      <td>...</td>\n",
       "      <td>...</td>\n",
       "    </tr>\n",
       "    <tr>\n",
       "      <th>1377</th>\n",
       "      <td>Pos</td>\n",
       "      <td>In June we bought the Sony Limited Edition Fo...</td>\n",
       "      <td>in june we bought the sony limited edition fo...</td>\n",
       "      <td>[in, june, we, bought, the, sony, limited, edi...</td>\n",
       "      <td>[june, bought, sony, limited, edition, focus, ...</td>\n",
       "      <td>june bought soni limit edit focus se dr sedan ...</td>\n",
       "    </tr>\n",
       "    <tr>\n",
       "      <th>1378</th>\n",
       "      <td>Pos</td>\n",
       "      <td>After 140 000 miles  we decided to replace my...</td>\n",
       "      <td>after   miles  we decided to replace my wife ...</td>\n",
       "      <td>[after, miles, we, decided, to, replace, my, w...</td>\n",
       "      <td>[miles, decided, replace, wife, toyota, camry,...</td>\n",
       "      <td>mile decid replac wife toyota camri found new ...</td>\n",
       "    </tr>\n",
       "    <tr>\n",
       "      <th>1379</th>\n",
       "      <td>Pos</td>\n",
       "      <td>The Ford Focus is a great little record setti...</td>\n",
       "      <td>the ford focus is a great little record setti...</td>\n",
       "      <td>[the, ford, focus, is, a, great, little, recor...</td>\n",
       "      <td>[ford, focus, great, little, record, setting, ...</td>\n",
       "      <td>ford focus great littl record set car first ca...</td>\n",
       "    </tr>\n",
       "    <tr>\n",
       "      <th>1380</th>\n",
       "      <td>Pos</td>\n",
       "      <td>I needed a new car because my hyundai excel 9...</td>\n",
       "      <td>i needed a new car because my hyundai excel  ...</td>\n",
       "      <td>[i, needed, a, new, car, because, my, hyundai,...</td>\n",
       "      <td>[needed, new, car, hyundai, excel, decided, sh...</td>\n",
       "      <td>need new car hyundai excel decid shop around n...</td>\n",
       "    </tr>\n",
       "    <tr>\n",
       "      <th>1381</th>\n",
       "      <td>Pos</td>\n",
       "      <td>The 2000 Ford Focus SE 4 door sedan has a spa...</td>\n",
       "      <td>the  ford focus se  door sedan has a spacious...</td>\n",
       "      <td>[the, ford, focus, se, door, sedan, has, a, sp...</td>\n",
       "      <td>[ford, focus, se, door, sedan, spacious, inter...</td>\n",
       "      <td>ford focus se door sedan spacious interior sol...</td>\n",
       "    </tr>\n",
       "  </tbody>\n",
       "</table>\n",
       "<p>1382 rows × 6 columns</p>\n",
       "</div>"
      ],
      "text/plain": [
       "     Sentiment                                             Review  \\\n",
       "0          Neg   In 1992 we bought a new Taurus and we really ...   \n",
       "1          Neg   The last business trip  I drove to San Franci...   \n",
       "2          Neg   My husband and I purchased a 1990 Ford F250 a...   \n",
       "3          Neg   I feel I have a thorough opinion of this truc...   \n",
       "4          Neg   AS a mother of 3  all of whom are still in ca...   \n",
       "...        ...                                                ...   \n",
       "1377       Pos   In June we bought the Sony Limited Edition Fo...   \n",
       "1378       Pos   After 140 000 miles  we decided to replace my...   \n",
       "1379       Pos   The Ford Focus is a great little record setti...   \n",
       "1380       Pos   I needed a new car because my hyundai excel 9...   \n",
       "1381       Pos   The 2000 Ford Focus SE 4 door sedan has a spa...   \n",
       "\n",
       "                                    punctuation removed  \\\n",
       "0      in  we bought a new taurus and we really love...   \n",
       "1      the last business trip  i drove to san franci...   \n",
       "2      my husband and i purchased a  ford f and had ...   \n",
       "3      i feel i have a thorough opinion of this truc...   \n",
       "4      as a mother of   all of whom are still in car...   \n",
       "...                                                 ...   \n",
       "1377   in june we bought the sony limited edition fo...   \n",
       "1378   after   miles  we decided to replace my wife ...   \n",
       "1379   the ford focus is a great little record setti...   \n",
       "1380   i needed a new car because my hyundai excel  ...   \n",
       "1381   the  ford focus se  door sedan has a spacious...   \n",
       "\n",
       "                                              tokenized  \\\n",
       "0     [in, we, bought, a, new, taurus, and, we, real...   \n",
       "1     [the, last, business, trip, i, drove, to, san,...   \n",
       "2     [my, husband, and, i, purchased, a, ford, f, a...   \n",
       "3     [i, feel, i, have, a, thorough, opinion, of, t...   \n",
       "4     [as, a, mother, of, all, of, whom, are, still,...   \n",
       "...                                                 ...   \n",
       "1377  [in, june, we, bought, the, sony, limited, edi...   \n",
       "1378  [after, miles, we, decided, to, replace, my, w...   \n",
       "1379  [the, ford, focus, is, a, great, little, recor...   \n",
       "1380  [i, needed, a, new, car, because, my, hyundai,...   \n",
       "1381  [the, ford, focus, se, door, sedan, has, a, sp...   \n",
       "\n",
       "                                        sentiment_words  \\\n",
       "0     [bought, new, taurus, really, loved, decided, ...   \n",
       "1     [last, business, trip, drove, san, francisco, ...   \n",
       "2     [husband, purchased, ford, nothing, problems, ...   \n",
       "3     [feel, thorough, opinion, truck, compared, pos...   \n",
       "4     [mother, still, carseats, logical, thing, trad...   \n",
       "...                                                 ...   \n",
       "1377  [june, bought, sony, limited, edition, focus, ...   \n",
       "1378  [miles, decided, replace, wife, toyota, camry,...   \n",
       "1379  [ford, focus, great, little, record, setting, ...   \n",
       "1380  [needed, new, car, hyundai, excel, decided, sh...   \n",
       "1381  [ford, focus, se, door, sedan, spacious, inter...   \n",
       "\n",
       "                                                   stem  \n",
       "0     bought new taurus realli love decid tri new ta...  \n",
       "1     last busi trip drove san francisco went hertz ...  \n",
       "2     husband purchas ford noth problem own vehicl a...  \n",
       "3     feel thorough opinion truck compar post evalu ...  \n",
       "4     mother still carseat logic thing trade sx mini...  \n",
       "...                                                 ...  \n",
       "1377  june bought soni limit edit focus se dr sedan ...  \n",
       "1378  mile decid replac wife toyota camri found new ...  \n",
       "1379  ford focus great littl record set car first ca...  \n",
       "1380  need new car hyundai excel decid shop around n...  \n",
       "1381  ford focus se door sedan spacious interior sol...  \n",
       "\n",
       "[1382 rows x 6 columns]"
      ]
     },
     "execution_count": 7,
     "metadata": {},
     "output_type": "execute_result"
    }
   ],
   "source": [
    "data['stem']=data['sentiment_words'].apply(stem)\n",
    "\n",
    "data\n"
   ]
  },
  {
   "cell_type": "markdown",
   "id": "1ded07f6",
   "metadata": {},
   "source": [
    "###  Criteria 1A\n",
    "\n",
    "#### Reviews in lowercase after punctuation and stopwords removal\n",
    "\n",
    "The below code prints the review before and after preprocessing--punctuation,stopwords and in lowercase\n"
   ]
  },
  {
   "cell_type": "code",
   "execution_count": 8,
   "id": "a4aafc2a",
   "metadata": {},
   "outputs": [
    {
     "name": "stdout",
     "output_type": "stream",
     "text": [
      "----------------------------------------------------------------------------------------------\n",
      "Original Review\n",
      "\n",
      " In 1992 we bought a new Taurus and we really loved it  So in 1999 we decided to try a new Taurus  I did not care for the style of the newer version  but bought it anyway I do not like the new car half as much as i liked our other one  Thee dash is much to deep and takes up a lot of room  I do not find the seats as comfortable and the way the sides stick out further than the strip that should protect your card from denting It drives nice and has good pick up  But you can not see the hood at all from the driver seat and judging and parking is difficult  It has a very small gas tank I would not buy a Taurus if I had it to do over  I would rather have my 1992 back  I don t think the style is as nice as the the 1992  and it was a mistake to change the style  In less than a month we had a dead battery and a flat tire \n",
      "\n",
      "Review in lowercase after punctuation and stopwords removal\n",
      "\n",
      "bought new taurus realli love decid tri new taurus not care style newer version bought anyway not like new car half much like one thee dash much deep take lot room not find seat comfort way side stick strip should protect card dent drive nice good pick not see hood driver seat judg park difficult small gas tank would not buy taurus would rather back don think style nice mistak chang style less month dead batteri flat tire\n",
      "----------------------------------------------------------------------------------------------\n",
      "\n",
      "----------------------------------------------------------------------------------------------\n",
      "Original Review\n",
      "\n",
      " The last business trip  I drove to San Francisco  I went to Hertz Rentals and got a 1999 Ford Taurus  thinking it looked comfortable and professional  I found the seating to be uncomfortable for myself  as well as for my passenger Now  seating comfort may not be important to you  but it is to me The fuel usage was fine  the car did get us there with no problems  but  it was such an uncomfortable ride for both of us  It is not as though I am hard to fit into a car  I am 5 5  weigh 115 pounds  and I am usually quite comfortable in most any car  But  the Taurus seemed especially uncomfortable  For anyone who is thinking of renting a car for a long trip  I would suggest that the Ford Taurus  1999  not be on the list of  be sure to get this There was a large trunk that allowed us to pack a lot of materials needed for the business end of the trip  Driving it was a breeze  and everything  worked  right  I have no complaints about the standard making of the car  except in the comfort area  How important is comfort to you  On a long trip  being an uncomfortable driver is distracting to me  and it made the trip seem unnecessarily longer than it should have felt  I make this trip a lot  The Saturn would have been a better choice for me  as I have rented this model quite often  It offers comforts that the Taurus simply does not have If you are planning a long trip  or to buy a car that you intend to be comfortably seated in  check out the Taurus on a longer trial basis than you might another car  You may find the same thing happening to your comfort  \n",
      "\n",
      "Review in lowercase after punctuation and stopwords removal\n",
      "\n",
      "last busi trip drove san francisco went hertz rental got ford taurus think look comfort profession found seat uncomfort well passeng seat comfort may not import fuel usag fine car get us no problem uncomfort ride us not though hard fit car weigh pound usual quit comfort car taurus seem especi uncomfort anyon think rent car long trip would suggest ford taurus not list sure get larg trunk allow us pack lot materi need busi end trip drive breez everyth work right no complaint standard make car except comfort area import comfort long trip uncomfort driver distract made trip seem unnecessarili longer should felt make trip lot saturn would better choic rent model quit often offer comfort taurus simpli not plan long trip buy car intend comfort seat check taurus longer trial basi might anoth car may find thing happen comfort\n",
      "----------------------------------------------------------------------------------------------\n",
      "\n",
      "----------------------------------------------------------------------------------------------\n",
      "Original Review\n",
      "\n",
      " My husband and I purchased a 1990 Ford F250 and had nothing but problems  we have owned the vehicle approximately two years and it has spent at least half of that time in the shop The first problem was the valve covers were leaking  This problem took three days in the shop  When we went to pick it up  we found that the mechanic at the dealership did not replace parts that he had to take off  This took an additional week  Because of the poor design  fixing this vehicle was not found to be cheap  nor could just any mechanic do the work Next   within one week  the serpentine belt came off the pulleys and sheared off the air conditioning power plug  This also took nearly a week to fix  Cause of this problem was unknown Next  the clean air pump broke  again within a week  This took about four days to fix  When I picked up the truck after the air pump  I didn t realize at the time that the mechanic had not hooked back up a hose to the transmission  So  after driving it for three days  my transmission needed to be rebuilt  Due to unavailable parts  a new transmission replaced the old  Which was mated to a junk yard transfer case  This repair took about 5 days Truck vibrates at about 70 miles an hour  so we spent  1700  on a new front end  tires  balancing etc  This did not help the situation Within two weeks the serpentine belt was replaced for the second time since I bought the vehicle  The truck had 98 000 miles when I took over so I expected some problems don t get me wrong  but newer vehicles are said too have 200 000 mile motor s I noticed a large loss of power after said repairs  then began the costly fixes and diagnostics to find cause of power loss  The gas mileage at this point is about 10mpg never increasing the belt replacement continued till the present date at a belt every month  The truck went into the shop again for transmission leaks to a ford dealership where the problems found mounted  Once again unavailable and discontinued parts This is not even close to being all of the problems  but I think I ve said enough     \n",
      "\n",
      "Review in lowercase after punctuation and stopwords removal\n",
      "\n",
      "husband purchas ford noth problem own vehicl approxim two year spent least half time shop first problem valv cover leak problem took three day shop went pick found mechan dealership not replac part take took addit week poor design fix vehicl not found cheap nor could mechan work next within one week serpentin belt came pulley shear air condit power plug also took near week fix caus problem unknown next clean air pump broke within week took four day fix pick truck air pump didn realiz time mechan not hook back hose transmiss drive three day transmiss need rebuilt due unavail part new transmiss replac old mate junk yard transfer case repair took day truck vibrat mile hour spent new front end tire balanc etc not help situat within two week serpentin belt replac second time sinc bought vehicl truck mile took expect problem don get wrong newer vehicl said mile motor notic larg loss power said repair began cost fix diagnost find caus power loss gas mileag point mpg never increas belt replac continu till present date belt everi month truck went shop transmiss leak ford dealership problem found mount unavail discontinu part not even close problem think said enough\n",
      "----------------------------------------------------------------------------------------------\n",
      "\n",
      "----------------------------------------------------------------------------------------------\n",
      "Original Review\n",
      "\n",
      " I feel I have a thorough opinion of this truck compared to most who post evaluations of their vehicles  My truck has been owned by me since new and currently have 75k miles  I ve been meticulous with maintenance and treating my truck with normal duty activities  never exceeding the manufacturer s recommendations This is information regarding my vehicle and the excessive amount of problems found during an inspection 15 Sept 2003  It s reference for anyone else who has had the same problems or looking for information regarding warranties and extended warranties  You are welcome to give some feedback  VEHICLE  2000 FORD F150 5 4L 4x4 XLT w  Off Road   Tow Package 17  Rims  Everything factory install  all the top options included  EXTENDED WARRANTY  Purchased FORD s version 75K mile Bumper to Bumper coverage when new  50 deductible per drive in occurrence  DRIVING CONDITIONS  Never taken off road  Never towed anything of significant weight and Never used inappropriately Toward the last 400 miles of my 75K mile Ford purchased extended warranty bumper to bumper plan  the passenger side power door lock failed and the ABS light turned on  I brought it in to the dealer for an inspection along with some squeeking of the front end  thought it was a tire rim leak  PROBLEMS FOUND 1  All 4 tie rods  inners and outers  bad 2  Lower ball joints  bad 3  ABS Codes C1095 and C1096  ECU and HCU Controller and Module Assembly  bad 4  Passenger side door lock actuator  bad 5  Power Steering Pump  bad  air conditioning warranty replaced back at 30k miles  All items above were replaced under the purchased extended warranty bumber to bumber plan  EXCEPT a kit for the module assembly on the ABS  I will dispute that today  but had to pay for it to get it done  I am shocked that this much damage was found for a vehicle at only 75k miles proclaimed to be  Built Ford Tough  yet only offering a 36K mile manufacturer warranty  If I did not have the extended warranty  I could only guess the bill to pay for this The extended cab seating is extremely cramped  My friends refuse to be a passenger in the back  The rear bench seating is hard  very uncomfortable  General Motors seems to have very comfortable and roomy seating in their comparable models  The ignition is hidden and difficult to find  The stereo is second class for sound and tuning stations  especially AM  Factory installed tires have no significant grip traction after 10 000 miles  I recommend getting a spray in liner to help prevent the large dents and scratches that have happened in my truck  but not trucks that have been sprayed  The metal can t hold up and appears thin for the bed I do like the exterior look of the F150  The height is fantastic  I can see all around while driving  it certainly upsets small vehicle drivers behind me  tailgating me and assuming I m a slow road hog in the left lane  but when trying to pass  they see the road jammed full of cars in front of me  bumper to bumper  Accelerations and towing torque are very good  Although now I sense a loss or hesitation on a occasions when I have to suddenly put the petal to the medal to avoid accidents Expect to pay the value of your truck in maintenance costs from the dealer  They make their money on repairs and maintenance  very expensive  I m not complaining about this  but you buy and expensive truck  expect to pay for the maintenance  \n",
      "\n",
      "Review in lowercase after punctuation and stopwords removal\n",
      "\n",
      "feel thorough opinion truck compar post evalu vehicl truck own sinc new current mile meticul mainten treat truck normal duti activ never exceed manufactur recommend inform regard vehicl excess amount problem found inspect sept refer anyon els problem look inform regard warranti extend warranti welcom give feedback vehicl ford xlt road tow packag rim everyth factori instal top option includ extend warranti purchas ford version mile bumper bumper coverag new deduct per drive occurr drive condit never taken road never tow anyth signific weight never use inappropri toward last mile mile ford purchas extend warranti bumper bumper plan passeng side power door lock fail ab light turn brought dealer inspect along squeek front end thought tire rim leak problem found tie rod inner outer bad lower ball joint bad ab code ecu hcu control modul assembl bad passeng side door lock actuat bad power steer pump bad air condit warranti replac back mile item replac purchas extend warranti bumber bumber plan except kit modul assembl ab disput today pay get done shock much damag found vehicl mile proclaim built ford tough yet offer mile manufactur warranti not extend warranti could guess bill pay extend cab seat extrem cramp friend refus passeng back rear bench seat hard uncomfort general motor seem comfort roomi seat compar model ignit hidden difficult find stereo second class sound tune station especi factori instal tire no signific grip traction mile recommend get spray liner help prevent larg dent scratch happen truck not truck spray metal hold appear thin bed like exterior look height fantast see around drive certain upset small vehicl driver behind tailgat assum slow road hog left lane tri pass see road jam full car front bumper bumper acceler tow torqu good although sens loss hesit occas sudden put petal medal avoid accid expect pay valu truck mainten cost dealer make money repair mainten expens not complain buy expens truck expect pay mainten\n",
      "----------------------------------------------------------------------------------------------\n",
      "\n",
      "----------------------------------------------------------------------------------------------\n",
      "Original Review\n",
      "\n",
      " AS a mother of 3  all of whom are still in carseats  the only logical thing to do was to trade in my 200sx for a minivan  As the minivan is only one of a handful of vehicles that have the room my family requires  In addition  We bought a new one so the mechanical difficulties would be minimum I love the fact that the van seats so many people  I never have to worry about bringing 2 cars  Even if I have me kids with me the van seats added passengers  It does so in a roomy way as well I like the way the Windstar handles  It has great acceleration  I like the fact that you are able to see way infront of you while driving  But these features are almost always indicative of all vans  or at least most of them I hate the fact that this vehicle has broken down 4 times leaving myself and my children STRANDED on the side of the road  Each time we brought it back to the dealer where they said they fixed it  Each diagnosis was different  The engine lights continues to go on  to this day  This makes it difficult if not impossible for me to feel safe in the Windstar  Thankfully  my husband is quite mechanical The Windstar handles well  It is easy to steer and control  much like driving a car  Some vans have steering that is difficult The suspension on the Windstar leaves something to be desired  I have the privledge of feeling every bump The brakes are sound  I have yet to have them fail or squeak severly People who should buy this vehicle are those with alot of children or who need to transport alot of things  Anyone who enjoys sports cars   fast vehicles  should avoid this car \n",
      "\n",
      "Review in lowercase after punctuation and stopwords removal\n",
      "\n",
      "mother still carseat logic thing trade sx minivan minivan one hand vehicl room famili requir addit bought new one mechan difficulti would minimum love fact van seat mani peopl never worri bring car even kid van seat ad passeng roomi way well like way windstar handl great acceler like fact abl see way infront drive featur almost alway indic van least hate fact vehicl broken time leav children strand side road time brought back dealer said fix diagnosi differ engin light continu go day make difficult not imposs feel safe windstar thank husband quit mechan windstar handl well easi steer control much like drive car van steer difficult suspens windstar leav someth desir privledg feel everi bump brake sound yet fail squeak sever peopl should buy vehicl alot children need transport alot thing anyon enjoy sport car fast vehicl should avoid car\n",
      "----------------------------------------------------------------------------------------------\n",
      "\n"
     ]
    }
   ],
   "source": [
    "for i in range(5):\n",
    "    print('----------------------------------------------------------------------------------------------')\n",
    "    print('Original Review')\n",
    "    print()\n",
    "    #prints the Review Column of the dataframe data containing original review\n",
    "    print(data.loc[i,'Review'])\n",
    "    print()\n",
    "    print('Review in lowercase after punctuation and stopwords removal')\n",
    "    print()\n",
    "    #prints the stem column of the dataframe data containing review after \n",
    "#     preprocessing--punctuation,stopwords and in lowercase\n",
    "    print(data.loc[i,'stem'])\n",
    "    print('----------------------------------------------------------------------------------------------')\n",
    "    \n",
    "    print()"
   ]
  },
  {
   "cell_type": "markdown",
   "id": "a4aadeb8",
   "metadata": {},
   "source": [
    "### Criteria 1B\n",
    "\n",
    "#### Stemming Example\n",
    "\n",
    "Code below prints the stemmed version of the words in the example list"
   ]
  },
  {
   "cell_type": "code",
   "execution_count": 9,
   "id": "f2a5f4dc",
   "metadata": {
    "scrolled": true
   },
   "outputs": [
    {
     "name": "stdout",
     "output_type": "stream",
     "text": [
      "wait wait wait wait\n",
      "troubl troubl troubl\n",
      "car car car car\n"
     ]
    }
   ],
   "source": [
    "ex_1=[\"wait\", \"waiting\", \"waited\", \"waits\"]\n",
    "ex_2=[\"trouble\",\"troubling\",\"troubled\"]\n",
    "ex_3=['car','cars',\"car's\",\"cars's\"]\n",
    "\n",
    "print(stem(ex_1))\n",
    "print(stem(ex_2))\n",
    "print(stem(ex_3))\n",
    "\n"
   ]
  },
  {
   "cell_type": "markdown",
   "id": "78b4745d",
   "metadata": {},
   "source": [
    "### Creating input and output variables"
   ]
  },
  {
   "cell_type": "code",
   "execution_count": 10,
   "id": "07007704",
   "metadata": {},
   "outputs": [
    {
     "name": "stdout",
     "output_type": "stream",
     "text": [
      "bought new taurus realli love decid tri new taurus not care style newer version bought anyway not like new car half much like one thee dash much deep take lot room not find seat comfort way side stick strip should protect card dent drive nice good pick not see hood driver seat judg park difficult small gas tank would not buy taurus would rather back don think style nice mistak chang style less month dead batteri flat tire\n",
      "\n",
      "Neg\n"
     ]
    }
   ],
   "source": [
    "#input variable\n",
    "x=[d for d in data['stem']]\n",
    "#output variable\n",
    "y=[d for d in data['Sentiment']]\n",
    "\n",
    "print(x[0])\n",
    "print()\n",
    "print(y[0])\n",
    "\n"
   ]
  },
  {
   "cell_type": "markdown",
   "id": "ebaaffb3",
   "metadata": {},
   "source": [
    "### Criteria 1E\n",
    "\n",
    "#### Train/Test split"
   ]
  },
  {
   "cell_type": "code",
   "execution_count": 11,
   "id": "47f0cc15",
   "metadata": {},
   "outputs": [
    {
     "name": "stdout",
     "output_type": "stream",
     "text": [
      "training set 1105 data points 79.95658465991318 % of the data\n",
      "test set 277 data points 20.04341534008683 % of the data\n"
     ]
    }
   ],
   "source": [
    "\n",
    "# test_size=0.2 implies that the test set will have 20% of the data -- 277 data points\n",
    "\n",
    "trainx,testx,trainy,testy = train_test_split(x,y,test_size=0.2,random_state=12)\n",
    "print('training set', len(trainx),'data points',len(trainx)*100/len(x),'% of the data')\n",
    "print('test set',len(testx),'data points',len(testx)*100/len(x),'% of the data')"
   ]
  },
  {
   "cell_type": "markdown",
   "id": "6b3c3431",
   "metadata": {},
   "source": [
    "### Criteria 1C\n",
    "\n",
    "#### Example vector for 5 training set reviews\n",
    "\n",
    "output of the code below is a vector containing the unigrams and their frequency for each review"
   ]
  },
  {
   "cell_type": "code",
   "execution_count": 12,
   "id": "78860530",
   "metadata": {
    "scrolled": true
   },
   "outputs": [
    {
     "data": {
      "text/html": [
       "<div>\n",
       "<style scoped>\n",
       "    .dataframe tbody tr th:only-of-type {\n",
       "        vertical-align: middle;\n",
       "    }\n",
       "\n",
       "    .dataframe tbody tr th {\n",
       "        vertical-align: top;\n",
       "    }\n",
       "\n",
       "    .dataframe thead th {\n",
       "        text-align: right;\n",
       "    }\n",
       "</style>\n",
       "<table border=\"1\" class=\"dataframe\">\n",
       "  <thead>\n",
       "    <tr style=\"text-align: right;\">\n",
       "      <th></th>\n",
       "      <th>activ</th>\n",
       "      <th>almost</th>\n",
       "      <th>alway</th>\n",
       "      <th>anyon</th>\n",
       "      <th>anyth</th>\n",
       "      <th>aren</th>\n",
       "      <th>assum</th>\n",
       "      <th>avid</th>\n",
       "      <th>began</th>\n",
       "      <th>believ</th>\n",
       "      <th>...</th>\n",
       "      <th>unfortun</th>\n",
       "      <th>use</th>\n",
       "      <th>vehicl</th>\n",
       "      <th>visit</th>\n",
       "      <th>wast</th>\n",
       "      <th>went</th>\n",
       "      <th>whether</th>\n",
       "      <th>wife</th>\n",
       "      <th>work</th>\n",
       "      <th>wrong</th>\n",
       "    </tr>\n",
       "  </thead>\n",
       "  <tbody>\n",
       "    <tr>\n",
       "      <th>0</th>\n",
       "      <td>1</td>\n",
       "      <td>2</td>\n",
       "      <td>2</td>\n",
       "      <td>1</td>\n",
       "      <td>1</td>\n",
       "      <td>2</td>\n",
       "      <td>1</td>\n",
       "      <td>1</td>\n",
       "      <td>1</td>\n",
       "      <td>1</td>\n",
       "      <td>...</td>\n",
       "      <td>1</td>\n",
       "      <td>1</td>\n",
       "      <td>11</td>\n",
       "      <td>1</td>\n",
       "      <td>1</td>\n",
       "      <td>1</td>\n",
       "      <td>1</td>\n",
       "      <td>2</td>\n",
       "      <td>5</td>\n",
       "      <td>2</td>\n",
       "    </tr>\n",
       "  </tbody>\n",
       "</table>\n",
       "<p>1 rows × 129 columns</p>\n",
       "</div>"
      ],
      "text/plain": [
       "   activ  almost  alway  anyon  anyth  aren  assum  avid  began  believ  ...  \\\n",
       "0      1       2      2      1      1     2      1     1      1       1  ...   \n",
       "\n",
       "   unfortun  use  vehicl  visit  wast  went  whether  wife  work  wrong  \n",
       "0         1    1      11      1     1     1        1     2     5      2  \n",
       "\n",
       "[1 rows x 129 columns]"
      ]
     },
     "metadata": {},
     "output_type": "display_data"
    },
    {
     "data": {
      "text/html": [
       "<div>\n",
       "<style scoped>\n",
       "    .dataframe tbody tr th:only-of-type {\n",
       "        vertical-align: middle;\n",
       "    }\n",
       "\n",
       "    .dataframe tbody tr th {\n",
       "        vertical-align: top;\n",
       "    }\n",
       "\n",
       "    .dataframe thead th {\n",
       "        text-align: right;\n",
       "    }\n",
       "</style>\n",
       "<table border=\"1\" class=\"dataframe\">\n",
       "  <thead>\n",
       "    <tr style=\"text-align: right;\">\n",
       "      <th></th>\n",
       "      <th>ad</th>\n",
       "      <th>adequ</th>\n",
       "      <th>also</th>\n",
       "      <th>amaz</th>\n",
       "      <th>around</th>\n",
       "      <th>art</th>\n",
       "      <th>awesom</th>\n",
       "      <th>back</th>\n",
       "      <th>bad</th>\n",
       "      <th>bargain</th>\n",
       "      <th>...</th>\n",
       "      <th>valu</th>\n",
       "      <th>vehicl</th>\n",
       "      <th>wagon</th>\n",
       "      <th>well</th>\n",
       "      <th>wheel</th>\n",
       "      <th>wife</th>\n",
       "      <th>win</th>\n",
       "      <th>without</th>\n",
       "      <th>year</th>\n",
       "      <th>yes</th>\n",
       "    </tr>\n",
       "  </thead>\n",
       "  <tbody>\n",
       "    <tr>\n",
       "      <th>0</th>\n",
       "      <td>1</td>\n",
       "      <td>1</td>\n",
       "      <td>1</td>\n",
       "      <td>1</td>\n",
       "      <td>1</td>\n",
       "      <td>2</td>\n",
       "      <td>1</td>\n",
       "      <td>1</td>\n",
       "      <td>1</td>\n",
       "      <td>1</td>\n",
       "      <td>...</td>\n",
       "      <td>1</td>\n",
       "      <td>5</td>\n",
       "      <td>2</td>\n",
       "      <td>3</td>\n",
       "      <td>1</td>\n",
       "      <td>1</td>\n",
       "      <td>1</td>\n",
       "      <td>1</td>\n",
       "      <td>1</td>\n",
       "      <td>2</td>\n",
       "    </tr>\n",
       "  </tbody>\n",
       "</table>\n",
       "<p>1 rows × 147 columns</p>\n",
       "</div>"
      ],
      "text/plain": [
       "   ad  adequ  also  amaz  around  art  awesom  back  bad  bargain  ...  valu  \\\n",
       "0   1      1     1     1       1    2       1     1    1        1  ...     1   \n",
       "\n",
       "   vehicl  wagon  well  wheel  wife  win  without  year  yes  \n",
       "0       5      2     3      1     1    1        1     1    2  \n",
       "\n",
       "[1 rows x 147 columns]"
      ]
     },
     "metadata": {},
     "output_type": "display_data"
    },
    {
     "data": {
      "text/html": [
       "<div>\n",
       "<style scoped>\n",
       "    .dataframe tbody tr th:only-of-type {\n",
       "        vertical-align: middle;\n",
       "    }\n",
       "\n",
       "    .dataframe tbody tr th {\n",
       "        vertical-align: top;\n",
       "    }\n",
       "\n",
       "    .dataframe thead th {\n",
       "        text-align: right;\n",
       "    }\n",
       "</style>\n",
       "<table border=\"1\" class=\"dataframe\">\n",
       "  <thead>\n",
       "    <tr style=\"text-align: right;\">\n",
       "      <th></th>\n",
       "      <th>aliv</th>\n",
       "      <th>along</th>\n",
       "      <th>anti</th>\n",
       "      <th>approxim</th>\n",
       "      <th>auction</th>\n",
       "      <th>automobil</th>\n",
       "      <th>awar</th>\n",
       "      <th>bebop</th>\n",
       "      <th>believ</th>\n",
       "      <th>bet</th>\n",
       "      <th>...</th>\n",
       "      <th>troubl</th>\n",
       "      <th>tube</th>\n",
       "      <th>two</th>\n",
       "      <th>version</th>\n",
       "      <th>well</th>\n",
       "      <th>wop</th>\n",
       "      <th>work</th>\n",
       "      <th>would</th>\n",
       "      <th>year</th>\n",
       "      <th>younger</th>\n",
       "    </tr>\n",
       "  </thead>\n",
       "  <tbody>\n",
       "    <tr>\n",
       "      <th>0</th>\n",
       "      <td>1</td>\n",
       "      <td>1</td>\n",
       "      <td>1</td>\n",
       "      <td>1</td>\n",
       "      <td>1</td>\n",
       "      <td>1</td>\n",
       "      <td>1</td>\n",
       "      <td>1</td>\n",
       "      <td>1</td>\n",
       "      <td>1</td>\n",
       "      <td>...</td>\n",
       "      <td>1</td>\n",
       "      <td>1</td>\n",
       "      <td>1</td>\n",
       "      <td>1</td>\n",
       "      <td>1</td>\n",
       "      <td>1</td>\n",
       "      <td>1</td>\n",
       "      <td>1</td>\n",
       "      <td>2</td>\n",
       "      <td>1</td>\n",
       "    </tr>\n",
       "  </tbody>\n",
       "</table>\n",
       "<p>1 rows × 119 columns</p>\n",
       "</div>"
      ],
      "text/plain": [
       "   aliv  along  anti  approxim  auction  automobil  awar  bebop  believ  bet  \\\n",
       "0     1      1     1         1        1          1     1      1       1    1   \n",
       "\n",
       "   ...  troubl  tube  two  version  well  wop  work  would  year  younger  \n",
       "0  ...       1     1    1        1     1    1     1      1     2        1  \n",
       "\n",
       "[1 rows x 119 columns]"
      ]
     },
     "metadata": {},
     "output_type": "display_data"
    },
    {
     "data": {
      "text/html": [
       "<div>\n",
       "<style scoped>\n",
       "    .dataframe tbody tr th:only-of-type {\n",
       "        vertical-align: middle;\n",
       "    }\n",
       "\n",
       "    .dataframe tbody tr th {\n",
       "        vertical-align: top;\n",
       "    }\n",
       "\n",
       "    .dataframe thead th {\n",
       "        text-align: right;\n",
       "    }\n",
       "</style>\n",
       "<table border=\"1\" class=\"dataframe\">\n",
       "  <thead>\n",
       "    <tr style=\"text-align: right;\">\n",
       "      <th></th>\n",
       "      <th>ab</th>\n",
       "      <th>abil</th>\n",
       "      <th>acceler</th>\n",
       "      <th>accommod</th>\n",
       "      <th>accord</th>\n",
       "      <th>ad</th>\n",
       "      <th>adequ</th>\n",
       "      <th>aggrav</th>\n",
       "      <th>air</th>\n",
       "      <th>align</th>\n",
       "      <th>...</th>\n",
       "      <th>whatsoev</th>\n",
       "      <th>wheel</th>\n",
       "      <th>wind</th>\n",
       "      <th>window</th>\n",
       "      <th>without</th>\n",
       "      <th>wood</th>\n",
       "      <th>worst</th>\n",
       "      <th>would</th>\n",
       "      <th>year</th>\n",
       "      <th>yet</th>\n",
       "    </tr>\n",
       "  </thead>\n",
       "  <tbody>\n",
       "    <tr>\n",
       "      <th>0</th>\n",
       "      <td>1</td>\n",
       "      <td>1</td>\n",
       "      <td>1</td>\n",
       "      <td>2</td>\n",
       "      <td>3</td>\n",
       "      <td>1</td>\n",
       "      <td>4</td>\n",
       "      <td>1</td>\n",
       "      <td>1</td>\n",
       "      <td>1</td>\n",
       "      <td>...</td>\n",
       "      <td>1</td>\n",
       "      <td>3</td>\n",
       "      <td>1</td>\n",
       "      <td>2</td>\n",
       "      <td>3</td>\n",
       "      <td>1</td>\n",
       "      <td>1</td>\n",
       "      <td>3</td>\n",
       "      <td>6</td>\n",
       "      <td>2</td>\n",
       "    </tr>\n",
       "  </tbody>\n",
       "</table>\n",
       "<p>1 rows × 411 columns</p>\n",
       "</div>"
      ],
      "text/plain": [
       "   ab  abil  acceler  accommod  accord  ad  adequ  aggrav  air  align  ...  \\\n",
       "0   1     1        1         2       3   1      4       1    1      1  ...   \n",
       "\n",
       "   whatsoev  wheel  wind  window  without  wood  worst  would  year  yet  \n",
       "0         1      3     1       2        3     1      1      3     6    2  \n",
       "\n",
       "[1 rows x 411 columns]"
      ]
     },
     "metadata": {},
     "output_type": "display_data"
    },
    {
     "data": {
      "text/html": [
       "<div>\n",
       "<style scoped>\n",
       "    .dataframe tbody tr th:only-of-type {\n",
       "        vertical-align: middle;\n",
       "    }\n",
       "\n",
       "    .dataframe tbody tr th {\n",
       "        vertical-align: top;\n",
       "    }\n",
       "\n",
       "    .dataframe thead th {\n",
       "        text-align: right;\n",
       "    }\n",
       "</style>\n",
       "<table border=\"1\" class=\"dataframe\">\n",
       "  <thead>\n",
       "    <tr style=\"text-align: right;\">\n",
       "      <th></th>\n",
       "      <th>abl</th>\n",
       "      <th>acceler</th>\n",
       "      <th>actual</th>\n",
       "      <th>addit</th>\n",
       "      <th>adjust</th>\n",
       "      <th>ago</th>\n",
       "      <th>air</th>\n",
       "      <th>airbag</th>\n",
       "      <th>also</th>\n",
       "      <th>attempt</th>\n",
       "      <th>...</th>\n",
       "      <th>want</th>\n",
       "      <th>week</th>\n",
       "      <th>well</th>\n",
       "      <th>wheel</th>\n",
       "      <th>whether</th>\n",
       "      <th>window</th>\n",
       "      <th>wonder</th>\n",
       "      <th>would</th>\n",
       "      <th>wrong</th>\n",
       "      <th>year</th>\n",
       "    </tr>\n",
       "  </thead>\n",
       "  <tbody>\n",
       "    <tr>\n",
       "      <th>0</th>\n",
       "      <td>1</td>\n",
       "      <td>1</td>\n",
       "      <td>1</td>\n",
       "      <td>1</td>\n",
       "      <td>2</td>\n",
       "      <td>1</td>\n",
       "      <td>5</td>\n",
       "      <td>1</td>\n",
       "      <td>3</td>\n",
       "      <td>1</td>\n",
       "      <td>...</td>\n",
       "      <td>2</td>\n",
       "      <td>2</td>\n",
       "      <td>1</td>\n",
       "      <td>1</td>\n",
       "      <td>1</td>\n",
       "      <td>1</td>\n",
       "      <td>1</td>\n",
       "      <td>1</td>\n",
       "      <td>1</td>\n",
       "      <td>1</td>\n",
       "    </tr>\n",
       "  </tbody>\n",
       "</table>\n",
       "<p>1 rows × 182 columns</p>\n",
       "</div>"
      ],
      "text/plain": [
       "   abl  acceler  actual  addit  adjust  ago  air  airbag  also  attempt  ...  \\\n",
       "0    1        1       1      1       2    1    5       1     3        1  ...   \n",
       "\n",
       "   want  week  well  wheel  whether  window  wonder  would  wrong  year  \n",
       "0     2     2     1      1        1       1       1      1      1     1  \n",
       "\n",
       "[1 rows x 182 columns]"
      ]
     },
     "metadata": {},
     "output_type": "display_data"
    }
   ],
   "source": [
    "# Iterating through the first 5 stemmed reviews in the training set \n",
    "\n",
    "vector= CountVectorizer()\n",
    "for i in range(5):   \n",
    "    example=vector.fit_transform([trainx[i]]).toarray()\n",
    "    df=pd.DataFrame(example,columns=vector.get_feature_names())\n",
    "    display(df)\n",
    "\n",
    "    \n",
    "\n"
   ]
  },
  {
   "cell_type": "markdown",
   "id": "82548255",
   "metadata": {},
   "source": [
    "### Creating training set vocabulary vector\n"
   ]
  },
  {
   "cell_type": "code",
   "execution_count": 13,
   "id": "a20cdc86",
   "metadata": {
    "scrolled": true
   },
   "outputs": [
    {
     "data": {
      "text/plain": [
       "array([[0, 0, 0, ..., 0, 0, 0],\n",
       "       [0, 0, 0, ..., 0, 0, 0],\n",
       "       [0, 0, 0, ..., 0, 0, 0],\n",
       "       ...,\n",
       "       [0, 0, 0, ..., 0, 0, 0],\n",
       "       [0, 0, 0, ..., 0, 0, 1],\n",
       "       [0, 0, 0, ..., 0, 0, 0]], dtype=int64)"
      ]
     },
     "metadata": {},
     "output_type": "display_data"
    }
   ],
   "source": [
    "vector= CountVectorizer()\n",
    "\n",
    "# here only the training set trainx is being vectorised.\n",
    "\n",
    "train_x = vector.fit_transform(trainx).toarray()\n",
    "\n",
    "\n",
    "display(train_x)\n",
    "\n"
   ]
  },
  {
   "cell_type": "markdown",
   "id": "fb246403",
   "metadata": {},
   "source": [
    "### Creating test set vocabulary vector"
   ]
  },
  {
   "cell_type": "code",
   "execution_count": 14,
   "id": "9924b8b5",
   "metadata": {},
   "outputs": [
    {
     "data": {
      "text/plain": [
       "array([[0, 0, 0, ..., 0, 0, 0],\n",
       "       [0, 0, 0, ..., 0, 0, 1],\n",
       "       [0, 0, 0, ..., 0, 0, 0],\n",
       "       ...,\n",
       "       [0, 0, 0, ..., 0, 0, 0],\n",
       "       [0, 0, 0, ..., 0, 0, 0],\n",
       "       [0, 0, 0, ..., 0, 0, 6]], dtype=int64)"
      ]
     },
     "metadata": {},
     "output_type": "display_data"
    }
   ],
   "source": [
    "# here only the test set testx is being vectorised\n",
    "\n",
    "test_x = vector.transform(testx).toarray()\n",
    "\n",
    "display(test_x)"
   ]
  },
  {
   "cell_type": "markdown",
   "id": "85672e2a",
   "metadata": {},
   "source": [
    "### Criteria 1D\n",
    "The code below uses Multinomial Naive Bayes-- MultiNomialNB() from sklearn\n",
    "#### Training the Classifier\n",
    "\n",
    "1. The classifier is trained using the training set train_x and trainy:\n",
    "\n",
    "    classifier.fit(train_x,trainy)\n",
    "    \n",
    "\n",
    "2. The classifier predicts the reviews in test set test_x:\n",
    "\n",
    "\n",
    "    classifier.predict(test_x)\n",
    "    \n",
    "\n",
    "3. Accuracy of the classifier:\n",
    "\n",
    "\n",
    "    accuracy_score(testy,predictedy)\n",
    "\n"
   ]
  },
  {
   "cell_type": "code",
   "execution_count": 15,
   "id": "cd9a846e",
   "metadata": {},
   "outputs": [
    {
     "name": "stdout",
     "output_type": "stream",
     "text": [
      "Test accuracy 77.25631768953069 %\n"
     ]
    }
   ],
   "source": [
    "classifier=MultinomialNB()\n",
    "classifier.fit(train_x,trainy)\n",
    "predictedy=classifier.predict(test_x)\n",
    "\n",
    "print(\"Test accuracy\",accuracy_score(testy,predictedy)*100,'%')\n"
   ]
  },
  {
   "cell_type": "markdown",
   "id": "eb81366d",
   "metadata": {},
   "source": [
    "### Criteria 1F\n",
    "#### Confusion Matrix\n",
    "code below outputs the confusion matrix and the proportion of True Positives,True Negatives,False Positives,False Negatives"
   ]
  },
  {
   "cell_type": "code",
   "execution_count": 16,
   "id": "6c4dc8c1",
   "metadata": {
    "scrolled": true
   },
   "outputs": [
    {
     "name": "stdout",
     "output_type": "stream",
     "text": [
      "Test accuracy 77.25631768953069 %\n"
     ]
    },
    {
     "data": {
      "text/plain": [
       "<AxesSubplot:>"
      ]
     },
     "execution_count": 16,
     "metadata": {},
     "output_type": "execute_result"
    },
    {
     "data": {
      "image/png": "[encoded data removed]",
      "text/plain": [
       "<Figure size 432x288 with 2 Axes>"
      ]
     },
     "metadata": {
      "needs_background": "light"
     },
     "output_type": "display_data"
    }
   ],
   "source": [
    "cm=confusion_matrix(testy, predictedy)\n",
    "labels=[f'True positive \\n {cm[0][0]}\\n{(cm[0][0]/len(testy))*100}%',\n",
    "        f'False negative \\n {cm[0][1]}\\n {(cm[0][1]/len(testy))*100}%',\n",
    "        f'False positive \\n {cm[1][0]} \\n{(cm[1][0]/len(testy))*100}%',\n",
    "        f'True negative \\n {cm[1][1]} \\n{(cm[1][1]/len(testy))*100}%']\n",
    "\n",
    "\n",
    "print(\"Test accuracy\",(testy==predictedy).sum()/len(testy)*100,'%')\n",
    "labels=np.asarray(labels).reshape(2,2)\n",
    "sns.heatmap(cm,annot=labels,fmt='', xticklabels=['pos','neg'], yticklabels=['pos','neg'])\n",
    "\n"
   ]
  },
  {
   "cell_type": "markdown",
   "id": "f29bd213",
   "metadata": {},
   "source": [
    "## Task 2\n",
    "\n",
    "### Criteria 2A\n",
    "\n",
    "Below is the markdown explaining the expected outcome of the improved approach along with references.\n",
    "\n"
   ]
  },
  {
   "cell_type": "markdown",
   "id": "aa90ea39",
   "metadata": {},
   "source": [
    "### Improving the Classifier\n",
    "\n",
    "\n",
    "\n",
    "In Task 1, we used unigrams to train the classifier. In task 2, we try to improve the classifier using n-grams. n-grams are \n",
    "continuous sequence of n words in a text [1].  For example,     \n",
    "<br>\n",
    "\"The Ford SUV is comfortable\"\n",
    "<br>\n",
    "Bigrams or when n=2    \"The Ford\",\"Ford SUV\",\"SUV is\",\"is comfortable\"   \n",
    "<br>\n",
    "In Task1, we represented only the presence or absence of the positive and negative words in the review. This approach works well when the review contains purely positive or purely negative words. However, classifying reviews which contain an equal or almost equal number of positive and negative words requires an understanding of the context they are used in the sentence[2]. For instance using unigrams on the following text:   \n",
    "<br>\n",
    "\"I'm not happy and I don’t like it!\n",
    "<br>\n",
    "the words \"happy\" and \"like\" will be counted as positive[2]\n",
    "<br>\n",
    "Therefore, pair of words like \"not happy\" and \" don't like\" show that the meaning or context of words matters along with their presence in the text. By using n-grams, more specifically bigrams we can capture pairs of consecutive words which contain polarity missed by the unigrams.\n",
    "<br>\n",
    "<br>\n",
    "In Task 2, we will be using unigrams and bigram features to train the Multinomial Naive Bayes Classifier. Previous observations show that using only bigrams has very small improvements or even decrease performance and therefore, extending unigrams instead of completely replacing with bigrams would be a better approach[3]. The use of unigrams and bigrams showed improvement in accuracy of classification when compared to unigrams even though the increase may not be very high [3][4][5].   \n",
    "<br>\n",
    "Use of trigrams or higher n grams may not improve the classifier significantly. As n increases, feature vectors will contain a lot of irrelevant features or noise. For instance,\n",
    "<br>\n",
    "\"The Ford SUV we bought is really spacious\" \n",
    "<br>\n",
    "\"The Ford SUV\",\"Ford SUV we\",\"SUV we bought\",\"we bought is\",\"bought is really\", \"is really spacious\"\n",
    "<br>\n",
    "features like \"The Ford SUV\", \"Ford SUV we\", \"SUV we bought\", \"we bought is\" contribute very less to the sentiment of the review and the frequency of their occurence in the train and test set will be very low [6].The contribution of these higher n-grams will be insignificant when compared to the contributions of unigrams.Therefore, we will ignore ngrams with n>2.\n",
    "<br>\n",
    "<br>\n",
    "<br>\n",
    "\n",
    "\n",
    "References:\n",
    "<br>\n",
    "\n",
    "\n",
    "[1] https://en.wikipedia.org/wiki/N-gram\n",
    "<br>\n",
    "[2] Silge,J., Robinson,D., 2017,  _Text Mining with R_, Sebastopol , O'Reilly Media, Inc.\n",
    "<br>\n",
    "[3] Bekkerman, R. and Allan, J., 2004. Using bigrams in text categorization (pp. 1-10). Technical Report IR-408, Center of     Intelligent Information Retrieval, UMass Amherst.\n",
    "<br>\n",
    "[4] Tan, C.M., Wang, Y.F. and Lee, C.D., 2002. The use of bigrams to enhance text categorization. Information processing &     management, 38(4), pp.529-546.\n",
    "<br>\n",
    "[5] Wang, S.I. and Manning, C.D., 2012, July. Baselines and bigrams: Simple, good sentiment and topic classification. In       Proceedings of the 50th Annual Meeting of the Association for Computational Linguistics (Volume 2: Short Papers) (pp.       90-94).\n",
    "<br>\n",
    "[6] Bengfort, B., Bilbro, R., Ojeda, T.,2018,_Applied Text Analysis with Python_,Sebastopol , O'Reilly Media, Inc."
   ]
  },
  {
   "cell_type": "markdown",
   "id": "57941df4",
   "metadata": {},
   "source": [
    "### Criteria 2B\n",
    "\n",
    "Lists and explains the steps for implementation of the improved approach.\n",
    "\n",
    "#### Steps to implement the unigram+bigram approach\n",
    "\n",
    "1. We will use the stemmed data from the stem column of our dataset.\n",
    "2. Split the data into train(80%) and test set(20%) using the same random state as in Task1 to compare results.\n",
    "3. We use an extra parameter in the count vectorizer : ngram_range=(1,2) where 1 denotes unigrams and 2 denotes bigrams\n",
    "4. We will use the modified countvectorizer to construct the train and test vocabulary vector\n",
    "5. We will train the Multinomial Naive Bayes classifier using the train unigram+bigram vector.\n",
    "6. We will output the confusion matrix.\n"
   ]
  },
  {
   "cell_type": "markdown",
   "id": "ac250ee5",
   "metadata": {},
   "source": [
    "### Criteria 2C\n",
    "\n",
    "The below cells implement the approach step by step."
   ]
  },
  {
   "cell_type": "code",
   "execution_count": 17,
   "id": "6cb77527",
   "metadata": {
    "scrolled": false
   },
   "outputs": [
    {
     "data": {
      "text/html": [
       "<div>\n",
       "<style scoped>\n",
       "    .dataframe tbody tr th:only-of-type {\n",
       "        vertical-align: middle;\n",
       "    }\n",
       "\n",
       "    .dataframe tbody tr th {\n",
       "        vertical-align: top;\n",
       "    }\n",
       "\n",
       "    .dataframe thead th {\n",
       "        text-align: right;\n",
       "    }\n",
       "</style>\n",
       "<table border=\"1\" class=\"dataframe\">\n",
       "  <thead>\n",
       "    <tr style=\"text-align: right;\">\n",
       "      <th></th>\n",
       "      <th>Sentiment</th>\n",
       "      <th>Review</th>\n",
       "      <th>punctuation removed</th>\n",
       "      <th>tokenized</th>\n",
       "      <th>sentiment_words</th>\n",
       "      <th>stem</th>\n",
       "    </tr>\n",
       "  </thead>\n",
       "  <tbody>\n",
       "    <tr>\n",
       "      <th>0</th>\n",
       "      <td>Neg</td>\n",
       "      <td>In 1992 we bought a new Taurus and we really ...</td>\n",
       "      <td>in  we bought a new taurus and we really love...</td>\n",
       "      <td>[in, we, bought, a, new, taurus, and, we, real...</td>\n",
       "      <td>[bought, new, taurus, really, loved, decided, ...</td>\n",
       "      <td>bought new taurus realli love decid tri new ta...</td>\n",
       "    </tr>\n",
       "    <tr>\n",
       "      <th>1</th>\n",
       "      <td>Neg</td>\n",
       "      <td>The last business trip  I drove to San Franci...</td>\n",
       "      <td>the last business trip  i drove to san franci...</td>\n",
       "      <td>[the, last, business, trip, i, drove, to, san,...</td>\n",
       "      <td>[last, business, trip, drove, san, francisco, ...</td>\n",
       "      <td>last busi trip drove san francisco went hertz ...</td>\n",
       "    </tr>\n",
       "    <tr>\n",
       "      <th>2</th>\n",
       "      <td>Neg</td>\n",
       "      <td>My husband and I purchased a 1990 Ford F250 a...</td>\n",
       "      <td>my husband and i purchased a  ford f and had ...</td>\n",
       "      <td>[my, husband, and, i, purchased, a, ford, f, a...</td>\n",
       "      <td>[husband, purchased, ford, nothing, problems, ...</td>\n",
       "      <td>husband purchas ford noth problem own vehicl a...</td>\n",
       "    </tr>\n",
       "    <tr>\n",
       "      <th>3</th>\n",
       "      <td>Neg</td>\n",
       "      <td>I feel I have a thorough opinion of this truc...</td>\n",
       "      <td>i feel i have a thorough opinion of this truc...</td>\n",
       "      <td>[i, feel, i, have, a, thorough, opinion, of, t...</td>\n",
       "      <td>[feel, thorough, opinion, truck, compared, pos...</td>\n",
       "      <td>feel thorough opinion truck compar post evalu ...</td>\n",
       "    </tr>\n",
       "    <tr>\n",
       "      <th>4</th>\n",
       "      <td>Neg</td>\n",
       "      <td>AS a mother of 3  all of whom are still in ca...</td>\n",
       "      <td>as a mother of   all of whom are still in car...</td>\n",
       "      <td>[as, a, mother, of, all, of, whom, are, still,...</td>\n",
       "      <td>[mother, still, carseats, logical, thing, trad...</td>\n",
       "      <td>mother still carseat logic thing trade sx mini...</td>\n",
       "    </tr>\n",
       "    <tr>\n",
       "      <th>...</th>\n",
       "      <td>...</td>\n",
       "      <td>...</td>\n",
       "      <td>...</td>\n",
       "      <td>...</td>\n",
       "      <td>...</td>\n",
       "      <td>...</td>\n",
       "    </tr>\n",
       "    <tr>\n",
       "      <th>1377</th>\n",
       "      <td>Pos</td>\n",
       "      <td>In June we bought the Sony Limited Edition Fo...</td>\n",
       "      <td>in june we bought the sony limited edition fo...</td>\n",
       "      <td>[in, june, we, bought, the, sony, limited, edi...</td>\n",
       "      <td>[june, bought, sony, limited, edition, focus, ...</td>\n",
       "      <td>june bought soni limit edit focus se dr sedan ...</td>\n",
       "    </tr>\n",
       "    <tr>\n",
       "      <th>1378</th>\n",
       "      <td>Pos</td>\n",
       "      <td>After 140 000 miles  we decided to replace my...</td>\n",
       "      <td>after   miles  we decided to replace my wife ...</td>\n",
       "      <td>[after, miles, we, decided, to, replace, my, w...</td>\n",
       "      <td>[miles, decided, replace, wife, toyota, camry,...</td>\n",
       "      <td>mile decid replac wife toyota camri found new ...</td>\n",
       "    </tr>\n",
       "    <tr>\n",
       "      <th>1379</th>\n",
       "      <td>Pos</td>\n",
       "      <td>The Ford Focus is a great little record setti...</td>\n",
       "      <td>the ford focus is a great little record setti...</td>\n",
       "      <td>[the, ford, focus, is, a, great, little, recor...</td>\n",
       "      <td>[ford, focus, great, little, record, setting, ...</td>\n",
       "      <td>ford focus great littl record set car first ca...</td>\n",
       "    </tr>\n",
       "    <tr>\n",
       "      <th>1380</th>\n",
       "      <td>Pos</td>\n",
       "      <td>I needed a new car because my hyundai excel 9...</td>\n",
       "      <td>i needed a new car because my hyundai excel  ...</td>\n",
       "      <td>[i, needed, a, new, car, because, my, hyundai,...</td>\n",
       "      <td>[needed, new, car, hyundai, excel, decided, sh...</td>\n",
       "      <td>need new car hyundai excel decid shop around n...</td>\n",
       "    </tr>\n",
       "    <tr>\n",
       "      <th>1381</th>\n",
       "      <td>Pos</td>\n",
       "      <td>The 2000 Ford Focus SE 4 door sedan has a spa...</td>\n",
       "      <td>the  ford focus se  door sedan has a spacious...</td>\n",
       "      <td>[the, ford, focus, se, door, sedan, has, a, sp...</td>\n",
       "      <td>[ford, focus, se, door, sedan, spacious, inter...</td>\n",
       "      <td>ford focus se door sedan spacious interior sol...</td>\n",
       "    </tr>\n",
       "  </tbody>\n",
       "</table>\n",
       "<p>1382 rows × 6 columns</p>\n",
       "</div>"
      ],
      "text/plain": [
       "     Sentiment                                             Review  \\\n",
       "0          Neg   In 1992 we bought a new Taurus and we really ...   \n",
       "1          Neg   The last business trip  I drove to San Franci...   \n",
       "2          Neg   My husband and I purchased a 1990 Ford F250 a...   \n",
       "3          Neg   I feel I have a thorough opinion of this truc...   \n",
       "4          Neg   AS a mother of 3  all of whom are still in ca...   \n",
       "...        ...                                                ...   \n",
       "1377       Pos   In June we bought the Sony Limited Edition Fo...   \n",
       "1378       Pos   After 140 000 miles  we decided to replace my...   \n",
       "1379       Pos   The Ford Focus is a great little record setti...   \n",
       "1380       Pos   I needed a new car because my hyundai excel 9...   \n",
       "1381       Pos   The 2000 Ford Focus SE 4 door sedan has a spa...   \n",
       "\n",
       "                                    punctuation removed  \\\n",
       "0      in  we bought a new taurus and we really love...   \n",
       "1      the last business trip  i drove to san franci...   \n",
       "2      my husband and i purchased a  ford f and had ...   \n",
       "3      i feel i have a thorough opinion of this truc...   \n",
       "4      as a mother of   all of whom are still in car...   \n",
       "...                                                 ...   \n",
       "1377   in june we bought the sony limited edition fo...   \n",
       "1378   after   miles  we decided to replace my wife ...   \n",
       "1379   the ford focus is a great little record setti...   \n",
       "1380   i needed a new car because my hyundai excel  ...   \n",
       "1381   the  ford focus se  door sedan has a spacious...   \n",
       "\n",
       "                                              tokenized  \\\n",
       "0     [in, we, bought, a, new, taurus, and, we, real...   \n",
       "1     [the, last, business, trip, i, drove, to, san,...   \n",
       "2     [my, husband, and, i, purchased, a, ford, f, a...   \n",
       "3     [i, feel, i, have, a, thorough, opinion, of, t...   \n",
       "4     [as, a, mother, of, all, of, whom, are, still,...   \n",
       "...                                                 ...   \n",
       "1377  [in, june, we, bought, the, sony, limited, edi...   \n",
       "1378  [after, miles, we, decided, to, replace, my, w...   \n",
       "1379  [the, ford, focus, is, a, great, little, recor...   \n",
       "1380  [i, needed, a, new, car, because, my, hyundai,...   \n",
       "1381  [the, ford, focus, se, door, sedan, has, a, sp...   \n",
       "\n",
       "                                        sentiment_words  \\\n",
       "0     [bought, new, taurus, really, loved, decided, ...   \n",
       "1     [last, business, trip, drove, san, francisco, ...   \n",
       "2     [husband, purchased, ford, nothing, problems, ...   \n",
       "3     [feel, thorough, opinion, truck, compared, pos...   \n",
       "4     [mother, still, carseats, logical, thing, trad...   \n",
       "...                                                 ...   \n",
       "1377  [june, bought, sony, limited, edition, focus, ...   \n",
       "1378  [miles, decided, replace, wife, toyota, camry,...   \n",
       "1379  [ford, focus, great, little, record, setting, ...   \n",
       "1380  [needed, new, car, hyundai, excel, decided, sh...   \n",
       "1381  [ford, focus, se, door, sedan, spacious, inter...   \n",
       "\n",
       "                                                   stem  \n",
       "0     bought new taurus realli love decid tri new ta...  \n",
       "1     last busi trip drove san francisco went hertz ...  \n",
       "2     husband purchas ford noth problem own vehicl a...  \n",
       "3     feel thorough opinion truck compar post evalu ...  \n",
       "4     mother still carseat logic thing trade sx mini...  \n",
       "...                                                 ...  \n",
       "1377  june bought soni limit edit focus se dr sedan ...  \n",
       "1378  mile decid replac wife toyota camri found new ...  \n",
       "1379  ford focus great littl record set car first ca...  \n",
       "1380  need new car hyundai excel decid shop around n...  \n",
       "1381  ford focus se door sedan spacious interior sol...  \n",
       "\n",
       "[1382 rows x 6 columns]"
      ]
     },
     "execution_count": 17,
     "metadata": {},
     "output_type": "execute_result"
    }
   ],
   "source": [
    "data\n"
   ]
  },
  {
   "cell_type": "markdown",
   "id": "6a30e691",
   "metadata": {},
   "source": [
    "### New input and output vector"
   ]
  },
  {
   "cell_type": "code",
   "execution_count": 18,
   "id": "63d6a47e",
   "metadata": {},
   "outputs": [],
   "source": [
    "x_new=[d for d in data['stem']]\n",
    "y_new=[d for d in data['Sentiment']]"
   ]
  },
  {
   "cell_type": "markdown",
   "id": "8e39a30b",
   "metadata": {},
   "source": [
    "### train and test split"
   ]
  },
  {
   "cell_type": "code",
   "execution_count": 19,
   "id": "cd77c06f",
   "metadata": {
    "scrolled": true
   },
   "outputs": [
    {
     "name": "stdout",
     "output_type": "stream",
     "text": [
      "training set 1105 data points 79.95658465991318 % of the data\n",
      "test set 277 data points 20.04341534008683 % of the data\n"
     ]
    }
   ],
   "source": [
    "train_x,test_x,train_y,test_y = train_test_split(x_new,y_new,test_size=0.2,random_state=12)\n",
    "\n",
    "\n",
    "print('training set', len(trainx),'data points',len(train_x)*100/len(x),'% of the data')\n",
    "print('test set',len(testx),'data points',len(test_x)*100/len(x),'% of the data')\n",
    "\n"
   ]
  },
  {
   "cell_type": "markdown",
   "id": "5bea7b3f",
   "metadata": {},
   "source": [
    "### Create training set vocabulary vector"
   ]
  },
  {
   "cell_type": "code",
   "execution_count": 20,
   "id": "3fe7a03a",
   "metadata": {},
   "outputs": [
    {
     "data": {
      "text/plain": [
       "array([[0, 0, 0, ..., 0, 0, 0],\n",
       "       [0, 0, 0, ..., 0, 0, 0],\n",
       "       [0, 0, 0, ..., 0, 0, 0],\n",
       "       ...,\n",
       "       [0, 0, 0, ..., 0, 0, 0],\n",
       "       [0, 0, 0, ..., 0, 0, 0],\n",
       "       [0, 0, 0, ..., 0, 0, 0]], dtype=int64)"
      ]
     },
     "metadata": {},
     "output_type": "display_data"
    }
   ],
   "source": [
    "#modified CountVectorizer to include unigrams and bigrams denoted by the parameter ngram_range=(1,2)\n",
    "vector= CountVectorizer(ngram_range=(1,2))\n",
    "train_x = vector.fit_transform(train_x).toarray()\n",
    "\n",
    "display(train_x)\n"
   ]
  },
  {
   "cell_type": "markdown",
   "id": "b9a2fae1",
   "metadata": {},
   "source": [
    "### Creating the test set vocabulary vector"
   ]
  },
  {
   "cell_type": "code",
   "execution_count": 21,
   "id": "301730a2",
   "metadata": {},
   "outputs": [
    {
     "data": {
      "text/plain": [
       "array([[0, 0, 0, ..., 0, 0, 0],\n",
       "       [0, 0, 0, ..., 0, 0, 0],\n",
       "       [0, 0, 0, ..., 0, 0, 0],\n",
       "       ...,\n",
       "       [0, 0, 0, ..., 0, 0, 0],\n",
       "       [0, 0, 0, ..., 0, 0, 0],\n",
       "       [0, 0, 0, ..., 0, 0, 0]], dtype=int64)"
      ]
     },
     "metadata": {},
     "output_type": "display_data"
    }
   ],
   "source": [
    "test_x = vector.transform(test_x).toarray()\n",
    "display(test_x)"
   ]
  },
  {
   "cell_type": "markdown",
   "id": "47baf74a",
   "metadata": {},
   "source": [
    "### Training the classifier"
   ]
  },
  {
   "cell_type": "code",
   "execution_count": 22,
   "id": "750e1a05",
   "metadata": {},
   "outputs": [
    {
     "name": "stdout",
     "output_type": "stream",
     "text": [
      "Test accuracy 80.14440433212997 %\n"
     ]
    }
   ],
   "source": [
    "classifier=MultinomialNB()\n",
    "classifier.fit(train_x,train_y)\n",
    "predicted_y=classifier.predict(test_x)\n",
    "print(\"Test accuracy\",accuracy_score(test_y,predicted_y)*100,'%')\n",
    "\n"
   ]
  },
  {
   "cell_type": "markdown",
   "id": "85d431f2",
   "metadata": {},
   "source": [
    "### Criteria 2D\n",
    "\n",
    "The below cells contain the confusion matrix for the new approach and the comparison of confusion matrices in Task1 and Task2\n",
    "\n",
    "#### Confusion Matrix\n",
    "\n"
   ]
  },
  {
   "cell_type": "code",
   "execution_count": 23,
   "id": "d14043ca",
   "metadata": {
    "scrolled": true
   },
   "outputs": [
    {
     "name": "stdout",
     "output_type": "stream",
     "text": [
      "Test accuracy 80.14440433212997 %\n"
     ]
    },
    {
     "data": {
      "text/plain": [
       "<AxesSubplot:>"
      ]
     },
     "execution_count": 23,
     "metadata": {},
     "output_type": "execute_result"
    },
    {
     "data": {
      "image/png": "[encoded data removed]",
      "text/plain": [
       "<Figure size 432x288 with 2 Axes>"
      ]
     },
     "metadata": {
      "needs_background": "light"
     },
     "output_type": "display_data"
    }
   ],
   "source": [
    "cm=confusion_matrix(test_y, predicted_y)\n",
    "labels=[f'True positive \\n {cm[0][0]}\\n{(cm[0][0]/len(testy))*100}%',\n",
    "        f'False negative \\n {cm[0][1]}\\n {(cm[0][1]/len(testy))*100}%',\n",
    "        f'False positive \\n {cm[1][0]} \\n{(cm[1][0]/len(testy))*100}%',\n",
    "        f'True negative \\n {cm[1][1]} \\n{(cm[1][1]/len(testy))*100}%']\n",
    "print(\"Test accuracy\",accuracy_score(test_y,predicted_y)*100,'%')\n",
    "\n",
    "labels=np.asarray(labels).reshape(2,2)\n",
    "sns.heatmap(cm,annot=labels,fmt='', xticklabels=['pos','neg'], yticklabels=['pos','neg'])"
   ]
  },
  {
   "cell_type": "markdown",
   "id": "535d8045",
   "metadata": {},
   "source": [
    "### Task 1 and Task 2 comparison\n",
    "\n",
    "<br>\n",
    "\n",
    "The overall accuracy of the classifier in Task2 is 80% when compared to the Task1 where it was 77%. Therefore, the inclusion of bigrams in the features did show a minor improvement for this particular random state.The increase in the accuracy of the classifier might change depending upon the random state chosen to split the data.\n",
    "<br>\n",
    "\n",
    "Comparing the confusion matrices, we can see that in Task2, the number of True positives has increased by 5% and the number of False negatives has decreased by 4.5%. It can be seen that reviews with overall positive sentiment but with a lot of negative words, have been classified correctly as positive in Task2 which reduces the number of false negatives. For instance, reviews like \"I do not mind paying a high price and do not mind the bad tyres\" has more negative words but the overall sentiment is positive. Hence unigrams+bigrams, for this random state have reduced the number of false negatives.\n",
    "<br>\n",
    "\n",
    "However, the number of False positives has increased by 2%. It can be seen that the reviews with overall negative sentiment but with a lot of positive words have not been classified correctly as negative.Also,the number of True negatives have decreased by 1%. Overall, incorporating unigrams+bigrams for this state has caused more number of negative sentiments to be classified incorrectly.  "
   ]
  },
  {
   "cell_type": "code",
   "execution_count": null,
   "id": "f40acee4",
   "metadata": {},
   "outputs": [],
   "source": []
  }
 ],
 "metadata": {
  "kernelspec": {
   "display_name": "Python 3",
   "language": "python",
   "name": "python3"
  },
  "language_info": {
   "codemirror_mode": {
    "name": "ipython",
    "version": 3
   },
   "file_extension": ".py",
   "mimetype": "text/x-python",
   "name": "python",
   "nbconvert_exporter": "python",
   "pygments_lexer": "ipython3",
   "version": "3.8.8"
  }
 },
 "nbformat": 4,
 "nbformat_minor": 5
}
